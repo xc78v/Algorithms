{
 "cells": [
  {
   "cell_type": "markdown",
   "metadata": {},
   "source": [
    "#"
   ]
  },
  {
   "cell_type": "code",
   "execution_count": 30,
   "metadata": {},
   "outputs": [],
   "source": [
    "def merge_ranges(meetings):\n",
    "\n",
    "    # Merge meeting ranges\n",
    "    if len(meetings) < 2:\n",
    "        return meetings\n",
    "    srt_metngs = sorted(meetings)\n",
    "    lst_mtg = srt_metngs[0]\n",
    "    out = []\n",
    "    cur_indx = 1\n",
    "    \n",
    "    while cur_indx<len(meetings):\n",
    "        cur_mtg = srt_metngs[cur_indx]\n",
    "        print(f\"last: {lst_mtg}\")\n",
    "        print(f\"cur:{cur_mtg}\")\n",
    "        if cur_mtg[0]<=lst_mtg[1]:\n",
    "            lst_mtg = (lst_mtg[0],max(cur_mtg[1],lst_mtg[1]))\n",
    "        else:\n",
    "            out.append(lst_mtg)\n",
    "            lst_mtg  = cur_mtg\n",
    "        cur_indx += 1\n",
    "    print(lst_mtg)\n",
    "    print(out)\n",
    "    if out and lst_mtg != out[-1] or not out:\n",
    "        out.append(lst_mtg)\n",
    "    return out\n",
    "    "
   ]
  },
  {
   "cell_type": "code",
   "execution_count": 14,
   "metadata": {},
   "outputs": [
    {
     "ename": "IndentationError",
     "evalue": "unexpected indent (1233821788.py, line 4)",
     "output_type": "error",
     "traceback": [
      "\u001b[0;36m  Cell \u001b[0;32mIn[14], line 4\u001b[0;36m\u001b[0m\n\u001b[0;31m    actual\u001b[0m\n\u001b[0m    ^\u001b[0m\n\u001b[0;31mIndentationError\u001b[0m\u001b[0;31m:\u001b[0m unexpected indent\n"
     ]
    }
   ],
   "source": [
    "actual = merge_ranges([(1, 8), (2, 5)])\n",
    "expected = [(1, 8)]\n",
    " \n",
    " actual"
   ]
  },
  {
   "cell_type": "code",
   "execution_count": 32,
   "metadata": {},
   "outputs": [
    {
     "name": "stdout",
     "output_type": "stream",
     "text": [
      "last: (0, 1)\n",
      "cur:(3, 5)\n",
      "last: (3, 5)\n",
      "cur:(4, 8)\n",
      "last: (3, 8)\n",
      "cur:(9, 10)\n",
      "last: (9, 10)\n",
      "cur:(10, 12)\n",
      "(9, 12)\n",
      "[(0, 1), (3, 8)]\n"
     ]
    },
    {
     "data": {
      "text/plain": [
       "[(0, 1), (3, 8), (9, 12)]"
      ]
     },
     "execution_count": 32,
     "metadata": {},
     "output_type": "execute_result"
    }
   ],
   "source": [
    "merge_ranges([(0, 1), (3, 5), (4, 8), (10, 12), (9, 10)])"
   ]
  },
  {
   "cell_type": "code",
   "execution_count": 33,
   "metadata": {},
   "outputs": [
    {
     "data": {
      "text/plain": [
       "True"
      ]
     },
     "execution_count": 33,
     "metadata": {},
     "output_type": "execute_result"
    }
   ],
   "source": [
    "import math\n",
    "math.inf>4"
   ]
  },
  {
   "cell_type": "code",
   "execution_count": null,
   "metadata": {},
   "outputs": [],
   "source": []
  }
 ],
 "metadata": {
  "kernelspec": {
   "display_name": "Python 3",
   "language": "python",
   "name": "python3"
  },
  "language_info": {
   "codemirror_mode": {
    "name": "ipython",
    "version": 3
   },
   "file_extension": ".py",
   "mimetype": "text/x-python",
   "name": "python",
   "nbconvert_exporter": "python",
   "pygments_lexer": "ipython3",
   "version": "3.10.8"
  }
 },
 "nbformat": 4,
 "nbformat_minor": 2
}
